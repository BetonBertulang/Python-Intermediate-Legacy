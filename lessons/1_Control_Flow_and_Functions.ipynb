{
 "cells": [
  {
   "cell_type": "markdown",
   "metadata": {},
   "source": [
    "# Python Intermediate: Control Flow and Functions\n",
    "\n",
    "* * * \n",
    "\n",
    "<div class=\"alert alert-success\">  \n",
    "    \n",
    "### Learning Objectives \n",
    "    \n",
    "* Understand how to handle conditions in Python and Pandas.\n",
    "* Practice with arguments when calling functions.\n",
    "* Writing your own functions, and applying them to a Dataframe.\n",
    "    \n",
    "</div>\n",
    "\n",
    "\n",
    "### Icons Used in This Notebook\n",
    "🔔 **Question**: A quick question to help you understand what's going on.<br>\n",
    "🥊 **Challenge**: Interactive exercise. We'll work through these in the workshop!<br>\n",
    "💡 **Tip**: How to do something a bit more efficiently or effectively.<br>\n",
    "⚠️ **Warning:** Heads-up about tricky stuff or common mistakes.<br>\n",
    "\n",
    "### Sections\n",
    "1. [Recap](#recap) \n",
    "2. [Conditionals](#cond)\n",
    "3. [Writing Your Own Functions](#write)"
   ]
  },
  {
   "cell_type": "markdown",
   "metadata": {
    "tags": []
   },
   "source": [
    "<a id='loops'></a>\n",
    "\n",
    "# Recap\n",
    "\n",
    "**Variables** are names attached to particular values.\n",
    "   * To create a variable, you assign it a value and then start using it.\n",
    "   * Assignment is done with a single equals sign `=`.\n",
    "   * When we write `n = 300`, we are assigning 300 to the variable `n` via the assignment operator `=`.\n",
    "\n",
    "**Functions** perform actions on \"things\".\n",
    "   * `print()` `len()`, and `type()`, are some of the most commonly used functions.\n",
    "   * You can identify a function because of its trailing round parentheses.  \n",
    "\n",
    "**Arguments** are the \"things\" we perform the action on within a function.\n",
    "   * They can be variables, datasets, or even other functions!\n",
    "   * Arguments go inside the trailing parentheses of functions when we call them.\n",
    "   * Arguments are also called inputs or parameters.\n",
    "\n",
    "**Methods** are type-specific functions.\n",
    "   * Different data types and structures have functions that only apply to them.\n",
    "   * For instance, strings have methods that only apply to them (lowercasing, uppercasing, etc.) that won't work with other data types.\n",
    "   * Methods are accessed using dot notation – e.g. `some_string.lower()`.\n",
    "\n",
    "Check out our [Python glossary](https://github.com/dlab-berkeley/Python-Fundamentals/blob/main/glossary.md) for definitions to other key vocabulary."
   ]
  },
  {
   "cell_type": "markdown",
   "metadata": {},
   "source": [
    "# This Workshop\n",
    "The best way to learn how to code is to do something useful, so this workshop is built around data analysis.\n",
    "\n",
    "`pandas` is the most common package used in data analysis, with a focus on data manipulation and processing. We will work some more with `pandas` here, and work towards visualizing our data.\n",
    "\n",
    "The data we will be using in this workshop comes from [Gapminder](https://www.gapminder.org/data/), an independent educational non-proﬁt ﬁghting global misconceptions. The dataset contains data for 142 countries, with values for life expectancy, GDP per capita, and population, every five years, from 1952 to 2007."
   ]
  },
  {
   "cell_type": "code",
   "execution_count": null,
   "metadata": {},
   "outputs": [],
   "source": [
    "# Recall that pandas is frequently imported with the alias pd\n",
    "import pandas as pd\n",
    "import numpy as np"
   ]
  },
  {
   "cell_type": "code",
   "execution_count": null,
   "metadata": {},
   "outputs": [],
   "source": [
    "df = pd.read_csv('../data/gapminder_gni.csv')\n",
    "df.head()"
   ]
  },
  {
   "cell_type": "markdown",
   "metadata": {},
   "source": [
    "🔔 <span style=\"color:purple\"> **Question**: How many rows are in the data set?</span>"
   ]
  },
  {
   "cell_type": "markdown",
   "metadata": {},
   "source": [
    "<a id='cond'></a>\n",
    "\n",
    "# Conditionals\n",
    "\n",
    "**Booleans** are a fundamental data type in programming. Booleans are variables that are **binary**: they can either be `True` or `False` (written with capital letters).\n",
    "\n",
    "Why do we use these? They're useful for **control flow**: changing the course of a program depending on certain conditions. Booleans allow decision making in these contexts.\n",
    "\n",
    "## Boolean Masks\n",
    "\n",
    "A **boolean mask** allows you to use Booleans in data frames. It returns a `Series` object containing `True` and `False` values you can then use for other purposes. "
   ]
  },
  {
   "cell_type": "markdown",
   "metadata": {},
   "source": [
    "Let's use some boolean masks with different **comparison operators**. These are operators than are used to compare two values.\n",
    "\n",
    "First, equality. This is signaled in Python (and many other languages) by the double equals sign `==`. It's distinct from the assignment operator (single equals sign `=`) used in variable assignment. "
   ]
  },
  {
   "cell_type": "code",
   "execution_count": null,
   "metadata": {},
   "outputs": [],
   "source": [
    "df['country'] == 'Afghanistan'"
   ]
  },
  {
   "cell_type": "markdown",
   "metadata": {},
   "source": [
    "## 🥊 <span style=\"color:purple\">Challenge 1: Working With Comparison Operators </span>\n",
    "\n",
    "We can also use `<` (less than), `>` (greater than), and `!=` (unequal to). \n",
    "Select the `gdpPercap` column and apply a boolean mask to select all values higher than 800."
   ]
  },
  {
   "cell_type": "code",
   "execution_count": null,
   "metadata": {
    "scrolled": true
   },
   "outputs": [],
   "source": [
    "# YOUR CODE HERE\n"
   ]
  },
  {
   "cell_type": "markdown",
   "metadata": {},
   "source": [
    "Let's add this last `Series` as a column to our data frame. We can add a column by assigning a series to a new column name in bracket notation. "
   ]
  },
  {
   "cell_type": "code",
   "execution_count": null,
   "metadata": {},
   "outputs": [],
   "source": [
    "df['gdpPercap_over_800'] = df['gdpPercap'] > 800\n",
    "df"
   ]
  },
  {
   "cell_type": "markdown",
   "metadata": {},
   "source": [
    "🔔 **Question**: Do you understand the code below?"
   ]
  },
  {
   "cell_type": "code",
   "execution_count": null,
   "metadata": {},
   "outputs": [],
   "source": [
    "sum(df['gdpPercap'] > 800) / len(df['gdpPercap'])"
   ]
  },
  {
   "cell_type": "markdown",
   "metadata": {},
   "source": [
    "💡 **Tip**: Python also has \"logic operators\" such as `and` and `or` than can be used to compare Boolean values with logic. See [here](https://www.w3schools.com/python/python_operators.asp) for a list of all operators!"
   ]
  },
  {
   "cell_type": "markdown",
   "metadata": {},
   "source": [
    "## If-Statements\n",
    "\n",
    "A fundamental structure in programming is the **conditional**. These blocks allow different blocks of code to run, *conditional* on specific things being true.\n",
    "\n",
    "The most widely used conditional is the **if-statement**. An if-statement controls whether some block of code is executed or not. Its structure is similar to that of a for loop: \n",
    "\n",
    "*   The first line opens with the `if` keyword and contains a Boolean variable or expression. It ends with a colon. If the expression evaluates to `True`, the block of code will run.\n",
    "*   The body, containing whatever code to execute if the condition is met, is indented.\n",
    "\n",
    "So, if the Boolean expression is `True`, the body of an if-statement is run. If not, it's skipped. Let's look at an example:"
   ]
  },
  {
   "cell_type": "code",
   "execution_count": null,
   "metadata": {},
   "outputs": [],
   "source": [
    "number = 105"
   ]
  },
  {
   "cell_type": "code",
   "execution_count": null,
   "metadata": {},
   "outputs": [],
   "source": [
    "# Body is executed\n",
    "if number > 100:\n",
    "    print(number, 'is greater than 100.')"
   ]
  },
  {
   "cell_type": "code",
   "execution_count": null,
   "metadata": {},
   "outputs": [],
   "source": [
    "# Body is not executed\n",
    "if number > 110:\n",
    "    print(number, 'is greater than 110.')"
   ]
  },
  {
   "cell_type": "markdown",
   "metadata": {},
   "source": [
    "## Conditionals and Loops\n",
    "\n",
    "Conditionals are particularly useful when we're iterating through a list, and want to perform some operation only on specific components of that list that satisfy a certain condition.\n",
    "\n",
    "🔔 **Question**: How would you explain the output of the following code?"
   ]
  },
  {
   "cell_type": "code",
   "execution_count": null,
   "metadata": {},
   "outputs": [],
   "source": [
    "numbers = [12, 20, 43, 88, 97, 100, 105, 110]\n",
    "\n",
    "for number in numbers:\n",
    "    if number > 100:\n",
    "        print(number, 'is greater than 100.')"
   ]
  },
  {
   "cell_type": "markdown",
   "metadata": {},
   "source": [
    "## Conditionals: Else-statements\n",
    "\n",
    "Else-statements supplement if-statements. They allow us to specify an alternative block of code to run if the if-statement's conditional evaluates to `False`.\n",
    "\n",
    "🔔 **Question**: Look at the difference between the following cell and the previous if-statement. How will this else-statement affect the output?"
   ]
  },
  {
   "cell_type": "code",
   "execution_count": null,
   "metadata": {},
   "outputs": [],
   "source": [
    "numbers = [12, 20, 43, 88, 97, 100, 105, 110]\n",
    "\n",
    "for number in numbers:\n",
    "    if number > 100:\n",
    "        print(number, 'is greater than 100.')\n",
    "    else:\n",
    "        print(number, 'is less than or equal to 100.')"
   ]
  },
  {
   "cell_type": "markdown",
   "metadata": {
    "tags": []
   },
   "source": [
    "## Conditionals: Else-if Statements\n",
    "\n",
    "We may want to check several conditionals at the same time. **Else-if (Elif-)** statements allow us to specify as many conditional checks as we'd like in the same block.\n",
    "\n",
    "Elif-statements must follow an if-statement. They only are checked if the if-statement fails. Then, each elif-statement is checked, with their corresponding bodies run when the conditional evaluates to `True`.\n",
    "\n",
    "An else statement at the end can act as a \"catch all\", when the if statement and all following else-if statements fail.\n",
    "\n",
    "In Python, else if statements are indicated by the `elif` keyword. Consider the following conditional cell."
   ]
  },
  {
   "cell_type": "code",
   "execution_count": null,
   "metadata": {
    "tags": []
   },
   "outputs": [],
   "source": [
    "numbers = [12, 20, 43, 88, 97, 100, 105, 110]\n",
    "\n",
    "for number in numbers:\n",
    "    if number > 100:\n",
    "        print(number, 'is greater than 100.')\n",
    "    elif number > 50 and number <= 100:\n",
    "        print(number, 'is greater than 50 and less than or equal to 100.')\n",
    "    elif number > 25 and number <= 50:\n",
    "        print(number, 'is greater than 25 and less than or equal to 50.')\n",
    "    else:\n",
    "        print(number, 'is less than or equal to 25.')"
   ]
  },
  {
   "cell_type": "markdown",
   "metadata": {},
   "source": [
    "🔔 **Question**: What is the `and` operator doing here?"
   ]
  },
  {
   "cell_type": "markdown",
   "metadata": {},
   "source": [
    "The order of the if and elif statements matters. When one if/elif statement is met, all following statements are skipped.  If there are multiple if statements, then each statement is evaluated separately. These kinds of errors won't give errors in the code, but they will give results that might not make sense, which can take longer to find and debug."
   ]
  },
  {
   "cell_type": "markdown",
   "metadata": {},
   "source": [
    "<a id='func'></a>\n",
    "\n",
    "# Functions and Arguments"
   ]
  },
  {
   "cell_type": "markdown",
   "metadata": {},
   "source": [
    "Recall that arguments are information that goes into a function. The order of arguments matters if we do not specify the so-called **keywords**. For instance, let's see the documentation of the `round()` function:"
   ]
  },
  {
   "cell_type": "code",
   "execution_count": null,
   "metadata": {},
   "outputs": [],
   "source": [
    "?round"
   ]
  },
  {
   "cell_type": "markdown",
   "metadata": {},
   "source": [
    "The **keywords** are the parameter names in between the brackets before the `=` sign. In this case, these are `number` and `ndigits`.\n",
    "\n",
    "We can't just reverse the order of the arguments in `round()`: this will result in an error."
   ]
  },
  {
   "cell_type": "code",
   "execution_count": null,
   "metadata": {},
   "outputs": [],
   "source": [
    "# This works\n",
    "round(3.000, 2)"
   ]
  },
  {
   "cell_type": "code",
   "execution_count": null,
   "metadata": {},
   "outputs": [],
   "source": [
    "# This doesn't\n",
    "round(2, 3.000)"
   ]
  },
  {
   "cell_type": "markdown",
   "metadata": {},
   "source": [
    "However, if we specify the **keywords** that we can find in the documentation, we can use any order we want."
   ]
  },
  {
   "cell_type": "code",
   "execution_count": null,
   "metadata": {},
   "outputs": [],
   "source": [
    "round(ndigits=2, number=3.000)"
   ]
  },
  {
   "cell_type": "markdown",
   "metadata": {},
   "source": [
    "⚠️ **Warning**: If you specify one keyword for one argument when calling the function, you need to specify the keywords for all arguments!"
   ]
  },
  {
   "cell_type": "markdown",
   "metadata": {},
   "source": [
    "<a id='write'></a>\n",
    "\n",
    "# Writing Your Own Functions\n",
    "\n",
    "Remember, functions are pieces of code that we expect to use over and over again.\n",
    "\n",
    "One of the most useful programming structures in Python is to write our own functions with a custom functionality that is specific to our goals."
   ]
  },
  {
   "cell_type": "markdown",
   "metadata": {},
   "source": [
    "## Basic Function Syntax\n",
    "\n",
    "Writing a function in Python is pretty easy! You need to know a few things:\n",
    "\n",
    "*   Functions begin with the keyword `def`.\n",
    "*   This keyword is followed by the function *name*.\n",
    "    *   The name must obey the same rules as variable names.\n",
    "*   The **arguments** or **parameters** are defined in parentheses as variable names.\n",
    "    *   Use empty parentheses if the function doesn't take any inputs.\n",
    "*   A colon indicates the end of the function *signature* (the first line).\n",
    "*   An indented block of code denotes the start of the *body*.\n",
    "*   The final line should be a `return` statement with the value(s) to be returned from the function.\n",
    "\n",
    "Let's take a look at a simple function:"
   ]
  },
  {
   "cell_type": "code",
   "execution_count": null,
   "metadata": {},
   "outputs": [],
   "source": [
    "def feet_to_meters(feet):\n",
    "    meters = feet * .304\n",
    "    return meters"
   ]
  },
  {
   "cell_type": "markdown",
   "metadata": {},
   "source": [
    "Notice how there is **no output** from running the block of code above. This is because defining a function does not run it. The function needs to be **called**, or run, with appropriate arguments to execute the code it contains. \n",
    "\n",
    "Let's run this function. We can save the output to a variable and print the result."
   ]
  },
  {
   "cell_type": "code",
   "execution_count": null,
   "metadata": {},
   "outputs": [],
   "source": [
    "meters = feet_to_meters(100)\n",
    "print(meters)"
   ]
  },
  {
   "cell_type": "markdown",
   "metadata": {},
   "source": [
    "## Variables and \"Scope\"\n",
    "\n",
    "Note how we've used the name `meters` twice above: both within the function definition, and for the variable that takes the output of the function. What's going on here?\n",
    "\n",
    "Arguments and variables created within the function **only exist within the scope of the function!** So `meters` within the function definition is a *different variable* than `meters` which now holds `30.4`."
   ]
  },
  {
   "cell_type": "markdown",
   "metadata": {},
   "source": [
    "## 🥊 Challenge 2: My First Function\n",
    "\n",
    "Write a function that converts Celsius temperatures to Fahrenheit. It takes in an argument, which is expected to be a temperature in Celcius. The formula for the conversion is:\n",
    "\n",
    "$$F = 1.8 * C + 32$$\n",
    "\n",
    "You can name this function whatever you want. But it makes sense to name it something sensible!"
   ]
  },
  {
   "cell_type": "code",
   "execution_count": null,
   "metadata": {},
   "outputs": [],
   "source": [
    "def ...:\n",
    "    # YOUR CODE HERE\n",
    "    return ..."
   ]
  },
  {
   "cell_type": "markdown",
   "metadata": {},
   "source": [
    "## How to `apply()` a Function\n",
    "\n",
    "The Pandas `.apply()` method allows you to apply a function over the axis of a dataframe. Here's an example: "
   ]
  },
  {
   "cell_type": "code",
   "execution_count": null,
   "metadata": {},
   "outputs": [],
   "source": [
    "def add_10(x):\n",
    "    return x + 10\n",
    "\n",
    "df['gniPercap'].apply(add_10)"
   ]
  },
  {
   "cell_type": "markdown",
   "metadata": {},
   "source": [
    "In the code above, we create a function that adds 10 to whatever comes into it.\n",
    "\n",
    "🔔 <span style=\"color:purple\"> **Question**: What happens when we `apply()` our function over the `gniPercap` column?</span>"
   ]
  },
  {
   "cell_type": "markdown",
   "metadata": {},
   "source": [
    "## 🥊 Challenge 3: `apply()` a Function\n",
    "\n",
    "Let's put everything we've learned together.\n",
    "\n",
    "Say that we want to create a new column in our dataset that classifies our datapoints in terms of the level of development, as measured by per capita gross national income (GNI). [This UN document](https://www.un.org/en/development/desa/policy/wesp/wesp_current/2014wesp_country_classification.pdf) outlines some rules for this.\n",
    "\n",
    "Here's what you need to do:\n",
    "\n",
    "1. Start a function called `assign_level` that takes in one parameter, `i`.\n",
    "2. Write an if-elif-else statement that checks `i`, based on the following rules:\n",
    "    - If it is more than 12615, `return` the string `high-income`. \n",
    "    - If it is more than 4086 and lower or equal to 12615, `return` the string `upper middle income`. \n",
    "    - If it is more than 1035 and lower or equal to 4086, `return` the string `upper middle income`. \n",
    "    - If it is less than 1035, `return` the string `low-income`. \n",
    "    - Else, return `np.nan` (this is a NaN value).\n",
    "3. Use `.apply()` on the `gniPercap` column, using your new `assign_level` function as the argument. Assign the output to a new column in our DataFrame, called `income_level`."
   ]
  },
  {
   "cell_type": "code",
   "execution_count": null,
   "metadata": {
    "tags": []
   },
   "outputs": [],
   "source": [
    "# YOUR CODE HERE\n"
   ]
  },
  {
   "cell_type": "markdown",
   "metadata": {},
   "source": [
    "If you've done this correctly, the following code should produce a barplot of the different income levels in our data."
   ]
  },
  {
   "cell_type": "code",
   "execution_count": null,
   "metadata": {},
   "outputs": [],
   "source": [
    "df['income_level'].value_counts().plot(kind='bar')"
   ]
  },
  {
   "cell_type": "markdown",
   "metadata": {
    "jp-MarkdownHeadingCollapsed": true,
    "tags": []
   },
   "source": [
    "<div class=\"alert alert-success\">\n",
    "\n",
    "## ❗ Key Points\n",
    "\n",
    "* Booleans (`bool`) are binary variables: they can be either `True` or `False`.\n",
    "* \"Boolean masks\" are used when we apply comparison operators such as `==` in Pandas; they allow us to retrieve data based on some condition. \n",
    "* `if` and `else` statements allow us to control whether parts of our code are being run.\n",
    "* Writing a function in Python begins with the keyword `def`, followed by the function name, parameters in parentheses, and a colon.\n",
    "* Functions end with a `return` statement: this is the output value of the function.\n",
    "* The `.apply()` method in Pandas allows you to apply a function over the axis of a DataFrame.\n",
    "    \n",
    "</div>"
   ]
  }
 ],
 "metadata": {
  "kernelspec": {
   "display_name": "Python 3 (ipykernel)",
   "language": "python",
   "name": "python3"
  },
  "language_info": {
   "codemirror_mode": {
    "name": "ipython",
    "version": 3
   },
   "file_extension": ".py",
   "mimetype": "text/x-python",
   "name": "python",
   "nbconvert_exporter": "python",
   "pygments_lexer": "ipython3",
   "version": "3.8.13"
  }
 },
 "nbformat": 4,
 "nbformat_minor": 4
}
