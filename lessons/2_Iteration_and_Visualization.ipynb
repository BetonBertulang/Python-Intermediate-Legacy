{
 "cells": [
  {
   "cell_type": "markdown",
   "metadata": {},
   "source": [
    "# Python Intermediate: Iteration and Visualization\n",
    "\n",
    "* * * \n",
    "\n",
    "<div class=\"alert alert-success\">  \n",
    "    \n",
    "### Learning Objectives \n",
    "    \n",
    "* Apply `for` loops for repeated computations.\n",
    "* Apply several useful Pandas methods such as `.describe()` and `.value_counts()`.\n",
    "* Use the `.plot()` method in Pandas to create simple visualizations. \n",
    "    \n",
    "</div>\n",
    "\n",
    "\n",
    "### Icons Used in This Notebook\n",
    "🔔 **Question**: A quick question to help you understand what's going on.<br>\n",
    "🥊 **Challenge**: Interactive exercise. We'll work through these in the workshop!<br>\n",
    "⚠️ **Warning**: Heads-up about tricky stuff or common mistakes.<br>\n",
    "💡 **Tip**: How to do something a bit more efficiently or effectively.<br>\n",
    "🎬 **Demo**: Showing off something more advanced – so you know what Python can be used for!<br>\n",
    "\n",
    "### Sections\n",
    "1. [Loops](#loops)\n",
    "2. [DataFrame Methods](#meth)\n",
    "3. [Visualizing DataFrames](#vis)"
   ]
  },
  {
   "cell_type": "code",
   "execution_count": null,
   "metadata": {},
   "outputs": [],
   "source": [
    "import pandas as pd\n",
    "import numpy as np\n",
    "import matplotlib.pyplot as plt"
   ]
  },
  {
   "cell_type": "code",
   "execution_count": null,
   "metadata": {},
   "outputs": [],
   "source": [
    "df = pd.read_csv('../data/gapminder_gni.csv')\n",
    "df.head()"
   ]
  },
  {
   "cell_type": "markdown",
   "metadata": {},
   "source": [
    "<a id='loops'></a>\n",
    "\n",
    "# Loops\n",
    "\n",
    "The strength of using computers is their speed. We can leverage this by facilitating repeated computation with **loops**. In programming, there are generally two kinds of loops: for loops and while loops. \n",
    "\n",
    "A **[for loop](https://www.w3schools.com/python/python_for_loops.asp)** executes some statements once *for* each value in an interable (like a list or a string). It says: \"*for* each thing in this group, *do* these operations\".\n",
    "\n",
    "A **[while loop](https://www.w3schools.com/python/python_while_loops.asp)** says: \"*while* Condition A is true, *do* these operations\".  We don't use these loops frequently in this type of programming so we won't cover them here.\n",
    "\n",
    "Let's take a look at the syntax of a for loop using the above example:"
   ]
  },
  {
   "cell_type": "code",
   "execution_count": null,
   "metadata": {},
   "outputs": [],
   "source": [
    "# We use a variable containing a list with the values to be iterated through\n",
    "lifeExp_list = [28.801, 30.332, 31.997]\n",
    "\n",
    "# Initialize the loop\n",
    "for each in lifeExp_list:\n",
    "    print(round(each))\n",
    "\n",
    "# This will only be printed when the loop has ended!\n",
    "print('The loop has ended.')"
   ]
  },
  {
   "cell_type": "markdown",
   "metadata": {},
   "source": [
    "Note that the above example is pretty easy to read:\n",
    "\n",
    "\"**for** each pressure **in** our list, print out the rounded number\"."
   ]
  },
  {
   "cell_type": "markdown",
   "metadata": {},
   "source": [
    "## Loop Syntax\n",
    "\n",
    "Let's break down the syntax of the `for` loop more closely.\n",
    "\n",
    "*   The colon at the end of the first line signals the start of a *block* of statements.\n",
    "*   The indented line(s) following the colon indicate the lines to run as a part of the loop (also known as the body).\n",
    "*   Unindented lines following the loop will execute **after** all iterations of the for loop are complete.\n",
    "*   `for loop_variable in collection:` The loop variable is what gets plugged into the calculations in the body of the loop, and the collection is the group of values being looped through.\n",
    "*   Loop variables:\n",
    "    *   Are created on demand.\n",
    "    *   Can have any name (though your code is more readable if these names are meaningful!).\n",
    "    *   Act as placeholders for the loop."
   ]
  },
  {
   "cell_type": "markdown",
   "metadata": {},
   "source": [
    "## 🥊 Challenge 1: Fixing Loop Syntax\n",
    "\n",
    "The following block of code contains **three errors** that are preventing it from running properly. What are the errors? How would you fix them?"
   ]
  },
  {
   "cell_type": "code",
   "execution_count": null,
   "metadata": {},
   "outputs": [],
   "source": [
    "for number in [2.12, 3.432, 5.23]\n",
    "print(n)"
   ]
  },
  {
   "cell_type": "markdown",
   "metadata": {},
   "source": [
    "## Loops With Strings, Series, `range`\n",
    "\n",
    "Loops can loop over any iterable data type. An **iterable** is any data type that can be iterated over, like a sequence. Generally, anything that can be indexed (e.g. accessed with `values[i]`) is an iterable.\n",
    "\n",
    "For example, a string is iterable, so it is possible to loop through a string!\n",
    "\n",
    "Let's take a look at an example:"
   ]
  },
  {
   "cell_type": "code",
   "execution_count": null,
   "metadata": {},
   "outputs": [],
   "source": [
    "example_string = 'afghanistan'\n",
    "\n",
    "for char in example_string:\n",
    "    # Use the upper() method on char\n",
    "    print(char.upper())"
   ]
  },
  {
   "cell_type": "markdown",
   "metadata": {},
   "source": [
    "## Aggregating Values With Loops\n",
    "\n",
    "A common strategy in programs is to:\n",
    "1.  Initialize an *accumulator* variable appropriate to the datatype of the output:\n",
    "    * `int` : `0`\n",
    "    * `str` : `''`\n",
    "    * `list` : `[]`\n",
    "2.  Update the variable with values from a collection through a for loop. Typical update operations are:\n",
    "    * `int` : `+`\n",
    "    * `str` : `+`\n",
    "    * `list` : `.append()`\n",
    "    \n",
    "The result of this is a single list, number, or string with a summary value for the entire collection being looped over.\n",
    "\n",
    "Returning to the tire pressure example, we can make a new list with all of the tire pressures rounded:"
   ]
  },
  {
   "cell_type": "code",
   "execution_count": null,
   "metadata": {},
   "outputs": [],
   "source": [
    "rounded_numbers = []\n",
    "\n",
    "for number in numbers: \n",
    "    rounded = round(number)\n",
    "    rounded_numbers.append(rounded)\n",
    "\n",
    "print('Rounded numbers:', rounded_numbers)"
   ]
  },
  {
   "cell_type": "markdown",
   "metadata": {},
   "source": [
    "💡 **Tip**: Remember: indenting matters in Python! Jupyter automatically indents for you – but if you want to move multiple lines of code at once, you can select them and then hit `Control + ]` to indent them (move to the right), or `Control + [` to dedent them (move to the left). If you are on a Mac, use `Command` instead of `Control`."
   ]
  },
  {
   "cell_type": "markdown",
   "metadata": {},
   "source": [
    "## 🥊 Challenge 2: Aggregation Practice\n",
    "\n",
    "Below are a few examples showing the different types of quantities you might aggregate using a for loop. These loops are partially filled out. Finish them and test that they work!"
   ]
  },
  {
   "cell_type": "markdown",
   "metadata": {},
   "source": [
    "1. Find the total length of the strings in the given list. Store this quantity in a variable called `total`."
   ]
  },
  {
   "cell_type": "code",
   "execution_count": null,
   "metadata": {},
   "outputs": [],
   "source": [
    "total = 0\n",
    "words = ['red', 'green', 'blue']\n",
    "\n",
    "for w in words:\n",
    "    ... = ... + len(w)\n",
    "\n",
    "print(total)"
   ]
  },
  {
   "cell_type": "markdown",
   "metadata": {},
   "source": [
    "2. Find the length of each word in the list, and store these lengths in another list called `lengths`."
   ]
  },
  {
   "cell_type": "code",
   "execution_count": null,
   "metadata": {},
   "outputs": [],
   "source": [
    "lengths = ...\n",
    "words = ['red', 'green', 'blue']\n",
    "\n",
    "for w in words:\n",
    "    lengths....(...)\n",
    "\n",
    "print(lengths)"
   ]
  },
  {
   "cell_type": "markdown",
   "metadata": {},
   "source": [
    "3. Concatenate all words into a single string called `result`."
   ]
  },
  {
   "cell_type": "code",
   "execution_count": null,
   "metadata": {},
   "outputs": [],
   "source": [
    "words = ['red', 'green', 'blue']\n",
    "result = ...\n",
    "\n",
    "for ... in ...:\n",
    "    ...\n",
    "\n",
    "print(result)"
   ]
  },
  {
   "cell_type": "markdown",
   "metadata": {},
   "source": [
    "4. Create an acronym, as a single string, representing the list of words. Each part of the acronym should consist of the first letter of each word, capitalized. For example, your loop should output `\"RGB\"` for the input `[\"red\", \"green\", \"blue\"]`. For this one, write the entire loop yourself!"
   ]
  },
  {
   "cell_type": "code",
   "execution_count": null,
   "metadata": {},
   "outputs": [],
   "source": [
    "words = ['red', 'green', 'blue']\n",
    "\n",
    "# YOUR CODE HERE\n"
   ]
  },
  {
   "cell_type": "markdown",
   "metadata": {},
   "source": [
    "💡 **Tip**: Python runs loops without showing you all the steps it takes. If you want to visualize all steps, check out [pythontutor.com](https://pythontutor.com/python-debugger.html#mode=edit). Try copy-pasting one of your answers in the last challenge!"
   ]
  },
  {
   "cell_type": "markdown",
   "metadata": {},
   "source": [
    "## How I Learned to Stop Using `for` Loops and Love Vectorization\n",
    "\n",
    "Let's say we want to multiply GDP per capita (`gdpPercap`) by population (`pop`) in order to get the total GDP of a country. We could do so using a `for` loop:"
   ]
  },
  {
   "cell_type": "code",
   "execution_count": null,
   "metadata": {
    "tags": []
   },
   "outputs": [],
   "source": [
    "%%timeit\n",
    "gdpTotal = []\n",
    "df_length = len(df)\n",
    "\n",
    "for each in range(df_length):\n",
    "    gdp = df['gdpPercap'].iloc[each]\n",
    "    pop = df['pop'].iloc[each]\n",
    "    gdpTotal.append(gdp * pop)"
   ]
  },
  {
   "cell_type": "markdown",
   "metadata": {},
   "source": [
    "But this operation is slow, and not preferred. In Pandas, we will want to use [**vectorized**](https://www.geeksforgeeks.org/vectorized-operations-in-numpy) operations. We can just multiply two columns, and Pandas will know we want to multiply each row of both columns!"
   ]
  },
  {
   "cell_type": "code",
   "execution_count": null,
   "metadata": {
    "scrolled": true
   },
   "outputs": [],
   "source": [
    "%%timeit\n",
    "gdpTotal = df['gdpPercap'] * df['pop']"
   ]
  },
  {
   "cell_type": "markdown",
   "metadata": {
    "tags": []
   },
   "source": [
    "## 🥊 Challenge 3: Get Vectorized\n",
    "\n",
    "Say our `year` column contains wrong information and we need to add one year to each value. Use a vectorized operation to get this done."
   ]
  },
  {
   "cell_type": "code",
   "execution_count": null,
   "metadata": {},
   "outputs": [],
   "source": [
    "# YOUR CODE HERE\n"
   ]
  },
  {
   "cell_type": "markdown",
   "metadata": {},
   "source": [
    "<a id='meth'></a>\n",
    "\n",
    "# DataFrame Methods\n",
    "\n",
    "Just like other objects, data frames have a series of methods – functions that work on them specifically."
   ]
  },
  {
   "cell_type": "markdown",
   "metadata": {},
   "source": [
    "### `.describe()`\n",
    "\n",
    "[`df.describe()`](https://pandas.pydata.org/docs/reference/api/pandas.DataFrame.describe.html) will give some summary statistics for a column. Let's look at how `.describe()` works on our `DataFrame`.\n",
    "\n",
    "🔔 **Question**: Why are only some of the columns in the `DataFrame` visible in the output below?"
   ]
  },
  {
   "cell_type": "code",
   "execution_count": null,
   "metadata": {
    "scrolled": true
   },
   "outputs": [],
   "source": [
    "df.describe()"
   ]
  },
  {
   "cell_type": "markdown",
   "metadata": {},
   "source": [
    "This function is good for summarizing numerical data in a dataset. However, sometimes this might not be enough. For example, what if we wanted the median of life expectancy?\n",
    "\n",
    "First, let's select just one column to operate on. We can select an individual column with bracket notation. This is analogous to indexing a list.\n",
    "\n",
    "🔔 **Question**: What is the type of the output?"
   ]
  },
  {
   "cell_type": "code",
   "execution_count": null,
   "metadata": {
    "scrolled": true
   },
   "outputs": [],
   "source": [
    "df['lifeExp']"
   ]
  },
  {
   "cell_type": "markdown",
   "metadata": {},
   "source": [
    "A single column of pandas is a `Series` object. This can be treated as a list or other iterable, and allows for you to do calculations over it. \n",
    "\n",
    "We can then look at the [documentation](https://pandas.pydata.org/docs/reference/api/pandas.Series.html) to see the methods and attributes that are available for `Series` objects. If we want the median, we can use the `.median()` function."
   ]
  },
  {
   "cell_type": "code",
   "execution_count": null,
   "metadata": {
    "scrolled": true
   },
   "outputs": [],
   "source": [
    "df['lifeExp'].median()"
   ]
  },
  {
   "cell_type": "markdown",
   "metadata": {},
   "source": [
    "### `.value_counts()`\n",
    "\n",
    "There are many methods for summarizing data frames (which often are assigned as `df`). For instance, `df.value_counts()` returns a `Series` containing counts of unique values."
   ]
  },
  {
   "cell_type": "code",
   "execution_count": null,
   "metadata": {},
   "outputs": [],
   "source": [
    "df['continent'].value_counts()"
   ]
  },
  {
   "cell_type": "markdown",
   "metadata": {},
   "source": [
    "## 🥊 Challenge 4: Dealing With Missing Values\n",
    "\n",
    "Dealing with missing values is important, even if some methods in Pandas automatically exclude them.\n",
    "\n",
    "1. Find the missing values of `df['gniPercap']` using the `.isna()` method. Check the [documentation](https://pandas.pydata.org/docs/reference/api/pandas.isnull.html) to see how it works.\n",
    "2. Then, run the `sum()` of that output to see how many missing values we have in total.\n",
    "3. Remove all missing values in the column using the `.dropna()` method. Check the [documentation](https://pandas.pydata.org/docs/reference/api/pandas.Series.dropna.html) to see how it works."
   ]
  },
  {
   "cell_type": "code",
   "execution_count": null,
   "metadata": {},
   "outputs": [],
   "source": [
    "# YOUR CODE HERE\n"
   ]
  },
  {
   "cell_type": "markdown",
   "metadata": {},
   "source": [
    "💡 **Tip**: There are hundreds of methods associated with `DataFrames` and `Series`. Don't memorize all of them. Instead, get used to new functions by reading documentation and examples!"
   ]
  },
  {
   "cell_type": "markdown",
   "metadata": {},
   "source": [
    "## 🥊 Challenge 5: Categorical to Numeric data\n",
    "\n",
    "Recall that in our dataset, we have a 'continent' column that includes the values 'Asia', 'Europe', 'Africa', 'Americas', and 'Oceania'. Let's say that for some Machine Learning model we're building, we want to replace these string values with numbers that will serve as input. \n",
    "\n",
    "There are several ways to do this. Look at the [documentation](https://pandas.pydata.org/docs/reference/api/pandas.Series.html) and see if you can `replace` the strings with a corresponding number."
   ]
  },
  {
   "cell_type": "code",
   "execution_count": null,
   "metadata": {
    "tags": []
   },
   "outputs": [],
   "source": [
    "# YOUR CODE HERE\n"
   ]
  },
  {
   "cell_type": "markdown",
   "metadata": {},
   "source": [
    "<a id=\"vis\"></a>\n",
    "# Visualizing DataFrames\n",
    "\n",
    "We often want to look at our data visually. Fortunately, `pandas` also offers some basic plotting functions that can be useful in exploring a data set. In this section, we will cover two basic types of plots: histograms and scatter plots. See the [documentation](https://pandas.pydata.org/docs/reference/api/pandas.DataFrame.plot.html) for further information on plotting and plot customization.\n",
    "\n",
    "### Histograms\n",
    "\n",
    "A histogram shows the distribution of a variable using binned values. We can call this using the syntax: `df[column].plot(kind='hist')`.\n",
    "\n",
    "💡 **Tip**: Use a histogram if you want to show distributions of continuous variables."
   ]
  },
  {
   "cell_type": "code",
   "execution_count": null,
   "metadata": {},
   "outputs": [],
   "source": [
    "print('Plot A: 5 Bins')\n",
    "fig = df['lifeExp'].plot(kind='hist', title='Histogram of life expectancy', bins=5)"
   ]
  },
  {
   "cell_type": "markdown",
   "metadata": {},
   "source": [
    "Note the `bins` keyword argument when calling the histogram. It changes the number of \"bins\" or \"buckets\" in the histogram. Each bin is plotted as a bar whose height corresponds to how many data points are in that bin.\n",
    "\n",
    "🔔 **Question**: Let's plot two more histograms with different amounts of bins. Which of the 3 plots would you pick, and why?"
   ]
  },
  {
   "cell_type": "code",
   "execution_count": null,
   "metadata": {},
   "outputs": [],
   "source": [
    "print('Plot B: 10 Bins')\n",
    "fig = df['lifeExp'].plot(kind='hist', title='Histogram of life expectancy', bins=10)"
   ]
  },
  {
   "cell_type": "code",
   "execution_count": null,
   "metadata": {},
   "outputs": [],
   "source": [
    "print('Plot C: 20 bins')\n",
    "df['lifeExp'].plot(kind='hist', title='Histogram of life expectancy', bins=20)"
   ]
  },
  {
   "cell_type": "markdown",
   "metadata": {},
   "source": [
    "###  Scatter Plots\n",
    "\n",
    "Scatter plots visualize the relationship between different variables. We can create a scatter plot by specifying the columns to use for the `x` and `y` axes. "
   ]
  },
  {
   "cell_type": "code",
   "execution_count": null,
   "metadata": {},
   "outputs": [],
   "source": [
    "# YOUR CODE HERE\n",
    "df.plot(kind='scatter', x='lifeExp', y='gdpPercap')"
   ]
  },
  {
   "cell_type": "markdown",
   "metadata": {},
   "source": [
    "### Bar Plots\n",
    "\n",
    "Bar plots show the relationship between a numeric and a categoric variable. Here, we use the \"country\"  (categorical) and \"lifeExp\" (numeric) columns.\n",
    "\n",
    "💡 **Tip**: Use a bar plot when you want to illustrate differences in frequencies of some category.\n",
    "\n",
    "Let's retrieve the 10 data points with the lowest life expectancy in our data using `.sort_values()`, and then plot those data points in a bar plot.\n"
   ]
  },
  {
   "cell_type": "code",
   "execution_count": null,
   "metadata": {},
   "outputs": [],
   "source": [
    "# Sort values based on low life expectancy, get top 10\n",
    "low_lifeExp = df.sort_values('lifeExp', ascending=True)[:10]\n",
    "\n",
    "# Visualize with bar plot\n",
    "low_lifeExp.plot.bar(x='country', y='lifeExp', figsize=(6,4));"
   ]
  },
  {
   "cell_type": "markdown",
   "metadata": {},
   "source": [
    "🔔 **Question**: Do you notice any pattern in the data? What might be causing that pattern?"
   ]
  },
  {
   "cell_type": "markdown",
   "metadata": {},
   "source": [
    "## 🥊 Challenge 6: Loops and Plots\n",
    "\n",
    "Let's say you have a list of countries you want to compare life expectancy for using a single lineplot. We will create a function for this.\n",
    "\n",
    "We have set up the list and function for you. Your goal is to:\n",
    "1. Add three country names in the DataFrame to `country_list`.\n",
    "2. Add two parameters to the function; one for a DataFrame, and one for the list of countries.\n",
    "3. Within the function block, loop over the list of countries. \n",
    "4. Within the for-loop, create a subset of the DataFrame using a comparison operator that sets `country_data` to the subset of the country you are looping over in the list.\n",
    "5. In the `label=` parameter of `plt.plot()`, fill in the loop variable name.\n",
    "\n",
    "\n",
    "Run the cell when you're done: if you've succeeded, you should see a single line plot with life expectancy for all of the countries in `country_list`.\n",
    "\n",
    "💡 **Tip**: If you have time left, try to add labels and title to the plot using  `plt.xlabel()`, `plt.ylabel()`, and `plt.title()`. See [this resource](https://www.w3schools.com/python/matplotlib_labels.asp) for more information!\n"
   ]
  },
  {
   "cell_type": "code",
   "execution_count": null,
   "metadata": {},
   "outputs": [],
   "source": [
    "# YOUR CODE HERE\n",
    "\n",
    "country_list = [..., ..., ...]\n",
    "\n",
    "def plot_life_expectancy(..., ...):\n",
    "    for ... in ...:\n",
    "        country_data = ...\n",
    "        plt.plot(country_data['year'], country_data['lifeExp'], label=...)\n",
    "    plt.legend()\n",
    "    plt.show()\n",
    "\n",
    "plot_life_expectancy(df, countries)"
   ]
  },
  {
   "cell_type": "markdown",
   "metadata": {
    "jp-MarkdownHeadingCollapsed": true,
    "tags": []
   },
   "source": [
    "<div class=\"alert alert-success\">\n",
    "\n",
    "## ❗ Key Points\n",
    "\n",
    "* A `for` loop executes some statements once for each value in an interable.\n",
    "* `for` loops work on lists and other list-like structures, but also on other iterables such as strings!\n",
    "* We typically use an aggregator variable to store some information we retrieve using a `for` loop.    \n",
    "* The `.describe()` method in Pandas summarizes numerical data in a dataset.\n",
    "* We typically do not want to use for-loops in Pandas - instead, we use \"vectorized\" operations.\n",
    "* The `.plot()` method in Pandas takes a `kind=` argument that determines what kind of plot it is - such as `scatter` or `hist`.\n",
    "* A histogram shows the distribution of a variable using binned values.\n",
    "* A scatterplot visualizes the relationship between different variables.\n",
    "\n",
    "</div>"
   ]
  }
 ],
 "metadata": {
  "kernelspec": {
   "display_name": "Python 3 (ipykernel)",
   "language": "python",
   "name": "python3"
  },
  "language_info": {
   "codemirror_mode": {
    "name": "ipython",
    "version": 3
   },
   "file_extension": ".py",
   "mimetype": "text/x-python",
   "name": "python",
   "nbconvert_exporter": "python",
   "pygments_lexer": "ipython3",
   "version": "3.8.13"
  }
 },
 "nbformat": 4,
 "nbformat_minor": 4
}
