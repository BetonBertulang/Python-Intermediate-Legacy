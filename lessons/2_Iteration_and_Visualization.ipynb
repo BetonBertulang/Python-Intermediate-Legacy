{
 "cells": [
  {
   "cell_type": "markdown",
   "metadata": {},
   "source": [
    "# Python Intermediate: Iteration and Visualization\n",
    "\n",
    "* * * \n",
    "\n",
    "<div class=\"alert alert-success\">  \n",
    "    \n",
    "### Learning Objectives \n",
    "    \n",
    "* Implement loops to do repeated computations.\n",
    "* Understand how to implement loops in Pandas with a technique called \"vectorization\".\n",
    "* Apply several Pandas methods to summarize and manipulate data.\n",
    "* Distinguish Pandas methods for `DataFrame` and `Series` objects.\n",
    "* Create simple visualizations using Pandas. \n",
    "    \n",
    "</div>\n",
    "\n",
    "\n",
    "### Icons Used in This Notebook\n",
    "🔔 **Question**: A quick question to help you understand what's going on.<br>\n",
    "🥊 **Challenge**: Interactive exercise. We'll work through these in the workshop!<br>\n",
    "💡 **Tip**: How to do something a bit more efficiently or effectively.<br>\n",
    "⚠️ **Warning:** Heads-up about tricky stuff or common mistakes.<br>\n",
    "📝 **Poll:** A Zoom poll to help you learn!\n",
    "\n",
    "### Sections\n",
    "1. [Iteration: Loops](#iter)\n",
    "2. [Iteration: Vectorization](#vector)\n",
    "3. [Methods for `DataFrame` Objects](#df_meth)\n",
    "4. [Methods for `Series` Objects](#series_meth)"
   ]
  },
  {
   "cell_type": "markdown",
   "metadata": {},
   "source": [
    "<a id='iter'></a>\n",
    "\n",
    "# Iteration: Loops\n",
    "\n",
    "The strength of using computers is their speed. We can leverage this through repeated computation, also called iteration. In Python, we can do this using **loops**. \n",
    "\n",
    "A **[for loop](https://www.w3schools.com/python/python_for_loops.asp)** executes some statements once *for* each value in an iterable (like a list or a string). It says: \"*for* each thing in this group, *do* these operations\".\n",
    "\n",
    "Let's take a look at the syntax of a for loop using the above example:"
   ]
  },
  {
   "cell_type": "code",
   "execution_count": 1,
   "metadata": {},
   "outputs": [
    {
     "name": "stdout",
     "output_type": "stream",
     "text": [
      "29\n",
      "30\n",
      "32\n",
      "The loop has ended.\n"
     ]
    }
   ],
   "source": [
    "# We use a variable containing a list with the values to be iterated through\n",
    "lifeExp_list = [28.801, 30.332, 31.997]\n",
    "\n",
    "# Initialize the loop\n",
    "for lifeExp in lifeExp_list:\n",
    "    rounded = round(lifeExp)\n",
    "    print(rounded)\n",
    "\n",
    "# This will only be printed when the loop has ended!\n",
    "print('The loop has ended.')"
   ]
  },
  {
   "cell_type": "markdown",
   "metadata": {},
   "source": [
    "Note that the above example is pretty easy to read:\n",
    "\n",
    "\"**for** each number **in** our list, print out the rounded number\"."
   ]
  },
  {
   "cell_type": "markdown",
   "metadata": {},
   "source": [
    "## For Loop Syntax\n",
    "\n",
    "Let's break down the syntax of the `for` loop more closely.\n",
    "\n",
    "<img src=\"../images/for.png\" alt=\"For loop in Python\" width=\"700\"/>\n",
    "\n",
    "Pay attention to the **loop variable** (`lifeExp`). It stands for each item in the list (`lifeExp_list`) we are iterating through. Loop variables can have any name; if we'd change it to `x`, it would still work. However, loop variables only exist inside the loop.\n",
    "\n",
    "🔔 **Question**: Would you prefer `lifeExp` or `x` as a name for the loop variable? Why?"
   ]
  },
  {
   "cell_type": "markdown",
   "metadata": {},
   "source": [
    "## 🥊 Challenge 1: Fixing Loop Syntax\n",
    "\n",
    "The following block of code contains **three errors** that are preventing it from running properly. \n",
    "\n",
    "📝 **Poll PyInt 2-1:** What are the three errors?"
   ]
  },
  {
   "cell_type": "code",
   "execution_count": 2,
   "metadata": {},
   "outputs": [
    {
     "name": "stdout",
     "output_type": "stream",
     "text": [
      "2.12\n",
      "3.432\n",
      "5.23\n"
     ]
    }
   ],
   "source": [
    "for number in [2.12, 3.432, 5.23]:\n",
    "    print(number)"
   ]
  },
  {
   "cell_type": "markdown",
   "metadata": {},
   "source": [
    "## Loops With Strings\n",
    "\n",
    "Loops can loop over any iterable data type. An **iterable** is any data type that can be iterated over, like a sequence. Generally, anything that can be indexed (e.g. accessed with `values[i]`) is an iterable.\n",
    "\n",
    "For example, a string is iterable, so it is possible to loop through a string!\n",
    "\n",
    "Let's take a look at an example:"
   ]
  },
  {
   "cell_type": "code",
   "execution_count": 3,
   "metadata": {},
   "outputs": [
    {
     "name": "stdout",
     "output_type": "stream",
     "text": [
      "A\n",
      "F\n",
      "G\n",
      "H\n",
      "A\n",
      "N\n",
      "I\n",
      "S\n",
      "T\n",
      "A\n",
      "N\n"
     ]
    }
   ],
   "source": [
    "example_string = 'afghanistan'\n",
    "\n",
    "for char in example_string:\n",
    "    # Use the upper() method on char\n",
    "    print(char.upper())"
   ]
  },
  {
   "cell_type": "markdown",
   "metadata": {
    "tags": []
   },
   "source": [
    "## Conditionals and Loops\n",
    "\n",
    "Recall that we can use `if`-statements to check if a condition is `True` or `False`. Also recall that `True` and `False` are called **Boolean values**.\n",
    "\n",
    "Conditionals are particularly useful when we're iterating through a list, and want to perform some operation only on specific components of that list that satisfy a certain condition."
   ]
  },
  {
   "cell_type": "code",
   "execution_count": 4,
   "metadata": {},
   "outputs": [
    {
     "name": "stdout",
     "output_type": "stream",
     "text": [
      "105 is greater than 100.\n",
      "110.9167 is greater than 100.\n"
     ]
    }
   ],
   "source": [
    "numbers = [12, 20.2, 43, 88.88, 97, 100, 105, 110.9167]\n",
    "\n",
    "for number in numbers:\n",
    "    if number > 100:\n",
    "        print(number, 'is greater than 100.')"
   ]
  },
  {
   "cell_type": "markdown",
   "metadata": {},
   "source": [
    "## Aggregating Values With Loops\n",
    "\n",
    "In the above example, we are operating on each value in `numbers`. However, instead of simply printing the results, we often will want to save them somehow. We can do this with an **accumulator variable**.\n",
    "\n",
    "A common strategy in programs is to:\n",
    "1.  Initialize an accumulator variable appropriate to the datatype of the output:\n",
    "    * `int` : `0`\n",
    "    * `str` : `''`\n",
    "    * `list` : `[]`\n",
    "2.  Update the variable with values from a collection through a `for` loop. Typical update operations are:\n",
    "    * `int` : `+`\n",
    "    * `str` : `+`\n",
    "    * `list` : `.append()`\n",
    "    \n",
    "The result of this is a single list, number, or string with a summary value for the entire collection being looped over.\n",
    "\n",
    "We can make a new list with all of the rounded numbers:"
   ]
  },
  {
   "cell_type": "code",
   "execution_count": 5,
   "metadata": {},
   "outputs": [
    {
     "name": "stdout",
     "output_type": "stream",
     "text": [
      "Rounded numbers: [12, 20, 43, 89, 97, 100, 105, 111]\n"
     ]
    }
   ],
   "source": [
    "rounded_numbers = []\n",
    "\n",
    "for number in numbers: \n",
    "    rounded = round(number)\n",
    "    rounded_numbers.append(rounded)\n",
    "\n",
    "print('Rounded numbers:', rounded_numbers)"
   ]
  },
  {
   "cell_type": "markdown",
   "metadata": {},
   "source": [
    "## 🥊 Challenge 2: Aggregation Practice\n",
    "\n",
    "Below are a few examples showing the different types of quantities you might aggregate using a for loop. These loops are partially filled out. Finish them and test that they work!"
   ]
  },
  {
   "cell_type": "markdown",
   "metadata": {},
   "source": [
    "1. Find the total length of the strings in the given list. Store this quantity in a variable called `total`."
   ]
  },
  {
   "cell_type": "code",
   "execution_count": 6,
   "metadata": {},
   "outputs": [
    {
     "name": "stdout",
     "output_type": "stream",
     "text": [
      "12\n"
     ]
    }
   ],
   "source": [
    "total = 0\n",
    "words = ['red', 'green', 'blue']\n",
    "\n",
    "for w in words:\n",
    "    total = total + len(w)\n",
    "\n",
    "print(total)"
   ]
  },
  {
   "cell_type": "markdown",
   "metadata": {},
   "source": [
    "2. Find the length of each word in the list, and store these lengths in another list called `lengths`."
   ]
  },
  {
   "cell_type": "code",
   "execution_count": 7,
   "metadata": {},
   "outputs": [
    {
     "name": "stdout",
     "output_type": "stream",
     "text": [
      "[3, 5, 4]\n"
     ]
    }
   ],
   "source": [
    "lengths = []\n",
    "words = ['red', 'green', 'blue']\n",
    "\n",
    "for w in words:\n",
    "    lengths.append(len(w))\n",
    "\n",
    "print(lengths)"
   ]
  },
  {
   "cell_type": "markdown",
   "metadata": {},
   "source": [
    "3. Concatenate all words into a single string called `result`."
   ]
  },
  {
   "cell_type": "code",
   "execution_count": 8,
   "metadata": {},
   "outputs": [
    {
     "name": "stdout",
     "output_type": "stream",
     "text": [
      "redgreenblue\n"
     ]
    }
   ],
   "source": [
    "words = ['red', 'green', 'blue']\n",
    "result = ''\n",
    "\n",
    "for w in words:\n",
    "    result += w\n",
    "\n",
    "print(result)"
   ]
  },
  {
   "cell_type": "markdown",
   "metadata": {},
   "source": [
    "💡 **Tip**: You might also encounter **[while loops](https://www.w3schools.com/python/python_while_loops.asp)**. A while loop says: \"*while* Condition A is true, *do* these operations\". We don't use these loops frequently in this type of programming so we won't cover them here."
   ]
  },
  {
   "cell_type": "markdown",
   "metadata": {},
   "source": [
    "<a id='vector'></a>\n",
    "\n",
    "# Iteration: Vectorization\n",
    "\n",
    "Let's have a look at our Gapminder dataset."
   ]
  },
  {
   "cell_type": "code",
   "execution_count": 9,
   "metadata": {},
   "outputs": [
    {
     "data": {
      "text/html": [
       "<div>\n",
       "<style scoped>\n",
       "    .dataframe tbody tr th:only-of-type {\n",
       "        vertical-align: middle;\n",
       "    }\n",
       "\n",
       "    .dataframe tbody tr th {\n",
       "        vertical-align: top;\n",
       "    }\n",
       "\n",
       "    .dataframe thead th {\n",
       "        text-align: right;\n",
       "    }\n",
       "</style>\n",
       "<table border=\"1\" class=\"dataframe\">\n",
       "  <thead>\n",
       "    <tr style=\"text-align: right;\">\n",
       "      <th></th>\n",
       "      <th>country</th>\n",
       "      <th>year</th>\n",
       "      <th>pop</th>\n",
       "      <th>continent</th>\n",
       "      <th>lifeExp</th>\n",
       "      <th>gdpPercap</th>\n",
       "      <th>gniPercap</th>\n",
       "    </tr>\n",
       "  </thead>\n",
       "  <tbody>\n",
       "    <tr>\n",
       "      <th>0</th>\n",
       "      <td>Afghanistan</td>\n",
       "      <td>1962</td>\n",
       "      <td>10267083.0</td>\n",
       "      <td>Asia</td>\n",
       "      <td>31.997</td>\n",
       "      <td>853.100710</td>\n",
       "      <td>NaN</td>\n",
       "    </tr>\n",
       "    <tr>\n",
       "      <th>1</th>\n",
       "      <td>Afghanistan</td>\n",
       "      <td>1967</td>\n",
       "      <td>11537966.0</td>\n",
       "      <td>Asia</td>\n",
       "      <td>34.020</td>\n",
       "      <td>836.197138</td>\n",
       "      <td>NaN</td>\n",
       "    </tr>\n",
       "    <tr>\n",
       "      <th>2</th>\n",
       "      <td>Afghanistan</td>\n",
       "      <td>1972</td>\n",
       "      <td>13079460.0</td>\n",
       "      <td>Asia</td>\n",
       "      <td>36.088</td>\n",
       "      <td>739.981106</td>\n",
       "      <td>NaN</td>\n",
       "    </tr>\n",
       "    <tr>\n",
       "      <th>3</th>\n",
       "      <td>Afghanistan</td>\n",
       "      <td>1977</td>\n",
       "      <td>14880372.0</td>\n",
       "      <td>Asia</td>\n",
       "      <td>38.438</td>\n",
       "      <td>786.113360</td>\n",
       "      <td>NaN</td>\n",
       "    </tr>\n",
       "    <tr>\n",
       "      <th>4</th>\n",
       "      <td>Afghanistan</td>\n",
       "      <td>1982</td>\n",
       "      <td>12881816.0</td>\n",
       "      <td>Asia</td>\n",
       "      <td>39.854</td>\n",
       "      <td>978.011439</td>\n",
       "      <td>NaN</td>\n",
       "    </tr>\n",
       "  </tbody>\n",
       "</table>\n",
       "</div>"
      ],
      "text/plain": [
       "       country  year         pop continent  lifeExp   gdpPercap  gniPercap\n",
       "0  Afghanistan  1962  10267083.0      Asia   31.997  853.100710        NaN\n",
       "1  Afghanistan  1967  11537966.0      Asia   34.020  836.197138        NaN\n",
       "2  Afghanistan  1972  13079460.0      Asia   36.088  739.981106        NaN\n",
       "3  Afghanistan  1977  14880372.0      Asia   38.438  786.113360        NaN\n",
       "4  Afghanistan  1982  12881816.0      Asia   39.854  978.011439        NaN"
      ]
     },
     "execution_count": 9,
     "metadata": {},
     "output_type": "execute_result"
    }
   ],
   "source": [
    "import pandas as pd\n",
    "\n",
    "df = pd.read_csv('../data/gapminder_gni.csv')\n",
    "df.head()"
   ]
  },
  {
   "cell_type": "markdown",
   "metadata": {},
   "source": [
    "Let's say that we want to multiply GDP per capita (`gdpPercap`) by population (`pop`) in order to get the total GDP of a country. We could do so using a `for` loop:"
   ]
  },
  {
   "cell_type": "code",
   "execution_count": 12,
   "metadata": {
    "tags": []
   },
   "outputs": [
    {
     "data": {
      "text/plain": [
       "[8758855796.92893,\n",
       " 9648014149.848902,\n",
       " 9678553274.066868,\n",
       " 11697659230.96992,\n",
       " 12598563400.516861]"
      ]
     },
     "execution_count": 12,
     "metadata": {},
     "output_type": "execute_result"
    }
   ],
   "source": [
    "gdpTotal = []\n",
    "df_length = len(df)\n",
    "\n",
    "for each in range(df_length):\n",
    "    gdp = df['gdpPercap'][each]\n",
    "    pop = df['pop'][each]\n",
    "    gdpTotal.append(gdp * pop)\n",
    "    \n",
    "gdpTotal[:5]"
   ]
  },
  {
   "cell_type": "markdown",
   "metadata": {},
   "source": [
    "But this operation is convoluted, slow, and not preferred. In Pandas, we will want to use [**vectorized**](https://www.geeksforgeeks.org/vectorized-operations-in-numpy) operations. \n",
    "\n",
    "We can just multiply two columns, and Pandas will know we want to multiply each row of both columns!"
   ]
  },
  {
   "cell_type": "code",
   "execution_count": 13,
   "metadata": {
    "scrolled": true
   },
   "outputs": [
    {
     "data": {
      "text/plain": [
       "0    8.758856e+09\n",
       "1    9.648014e+09\n",
       "2    9.678553e+09\n",
       "3    1.169766e+10\n",
       "4    1.259856e+10\n",
       "dtype: float64"
      ]
     },
     "execution_count": 13,
     "metadata": {},
     "output_type": "execute_result"
    }
   ],
   "source": [
    "gdpTotal = df['gdpPercap'] * df['pop']\n",
    "gdpTotal[:5]"
   ]
  },
  {
   "cell_type": "markdown",
   "metadata": {},
   "source": [
    "Here's what's happening to our DataFrame when we perform that operation:\n",
    "\n",
    "<img src=\"../images/vectorized2.png\" alt=\"Vectorizing in Pandas – multiplying columns\" width=\"600\"/>"
   ]
  },
  {
   "cell_type": "markdown",
   "metadata": {},
   "source": [
    "⚠️ **Warning:** Note that the output to this operation is not a list, but a `Series` – a data type specific to Pandas. It is like a list, but it is **labeled**. "
   ]
  },
  {
   "cell_type": "markdown",
   "metadata": {},
   "source": [
    "Vectorized operations like these are really handy, and they replace most of the use of `for`-loops in a context of Pandas and data analysis."
   ]
  },
  {
   "cell_type": "markdown",
   "metadata": {
    "tags": []
   },
   "source": [
    "## 🥊 Challenge 3: Get Vectorized\n",
    "\n",
    "Say our `year` column contains wrong information and we need to add one year to each value. Use a vectorized operation to get this done."
   ]
  },
  {
   "cell_type": "code",
   "execution_count": 15,
   "metadata": {},
   "outputs": [
    {
     "data": {
      "text/plain": [
       "<bound method NDFrame.head of           country  year         pop continent  lifeExp   gdpPercap  gniPercap\n",
       "0     Afghanistan  1964  10267083.0      Asia   31.997  853.100710        NaN\n",
       "1     Afghanistan  1969  11537966.0      Asia   34.020  836.197138        NaN\n",
       "2     Afghanistan  1974  13079460.0      Asia   36.088  739.981106        NaN\n",
       "3     Afghanistan  1979  14880372.0      Asia   38.438  786.113360        NaN\n",
       "4     Afghanistan  1984  12881816.0      Asia   39.854  978.011439        NaN\n",
       "...           ...   ...         ...       ...      ...         ...        ...\n",
       "1315     Zimbabwe  1989   9216418.0    Africa   62.351  706.157306      810.0\n",
       "1316     Zimbabwe  1994  10704340.0    Africa   60.377  693.420786      640.0\n",
       "1317     Zimbabwe  1999  11404948.0    Africa   46.809  792.449960      620.0\n",
       "1318     Zimbabwe  2004  11926563.0    Africa   39.989  672.038623      440.0\n",
       "1319     Zimbabwe  2009  12311143.0    Africa   43.487  469.709298      330.0\n",
       "\n",
       "[1320 rows x 7 columns]>"
      ]
     },
     "execution_count": 15,
     "metadata": {},
     "output_type": "execute_result"
    }
   ],
   "source": [
    "# YOUR CODE HERE\n",
    "df['year'] = df['year'] + 1\n",
    "df.head"
   ]
  },
  {
   "cell_type": "markdown",
   "metadata": {},
   "source": [
    "<a id='df_meth'></a>\n",
    "\n",
    "# Methods for `DataFrame` Objects\n",
    "\n",
    "Pandas has many methods: some allow you to work with entire DataFrames, while others operate on individual columns. This section focuses on learning to distinguish between these methods.\n",
    "\n",
    "Some methods work on entire DataFrames. We can look at the [documentation](https://pandas.pydata.org/docs/reference/api/pandas.DataFrame.html) to see all the methods and attributes that are available for `DataFrame` objects. Learning how to read documentation is an important skill! \n",
    "\n",
    "## Summary Statistics\n",
    "The [`describe()`](https://pandas.pydata.org/docs/reference/api/pandas.DataFrame.describe.html) method will give some summary statistics for a `DataFrame`. Run the cell below to see how it works."
   ]
  },
  {
   "cell_type": "code",
   "execution_count": 16,
   "metadata": {
    "scrolled": true
   },
   "outputs": [
    {
     "data": {
      "text/html": [
       "<div>\n",
       "<style scoped>\n",
       "    .dataframe tbody tr th:only-of-type {\n",
       "        vertical-align: middle;\n",
       "    }\n",
       "\n",
       "    .dataframe tbody tr th {\n",
       "        vertical-align: top;\n",
       "    }\n",
       "\n",
       "    .dataframe thead th {\n",
       "        text-align: right;\n",
       "    }\n",
       "</style>\n",
       "<table border=\"1\" class=\"dataframe\">\n",
       "  <thead>\n",
       "    <tr style=\"text-align: right;\">\n",
       "      <th></th>\n",
       "      <th>year</th>\n",
       "      <th>pop</th>\n",
       "      <th>lifeExp</th>\n",
       "      <th>gdpPercap</th>\n",
       "      <th>gniPercap</th>\n",
       "    </tr>\n",
       "  </thead>\n",
       "  <tbody>\n",
       "    <tr>\n",
       "      <th>count</th>\n",
       "      <td>1320.00000</td>\n",
       "      <td>1.320000e+03</td>\n",
       "      <td>1320.000000</td>\n",
       "      <td>1320.000000</td>\n",
       "      <td>1010.000000</td>\n",
       "    </tr>\n",
       "    <tr>\n",
       "      <th>mean</th>\n",
       "      <td>1986.50000</td>\n",
       "      <td>3.335027e+07</td>\n",
       "      <td>61.305435</td>\n",
       "      <td>7979.960449</td>\n",
       "      <td>5054.601980</td>\n",
       "    </tr>\n",
       "    <tr>\n",
       "      <th>std</th>\n",
       "      <td>14.36685</td>\n",
       "      <td>1.168342e+08</td>\n",
       "      <td>12.281896</td>\n",
       "      <td>9934.968078</td>\n",
       "      <td>9882.803653</td>\n",
       "    </tr>\n",
       "    <tr>\n",
       "      <th>min</th>\n",
       "      <td>1964.00000</td>\n",
       "      <td>6.534500e+04</td>\n",
       "      <td>23.599000</td>\n",
       "      <td>347.000000</td>\n",
       "      <td>10.000000</td>\n",
       "    </tr>\n",
       "    <tr>\n",
       "      <th>25%</th>\n",
       "      <td>1974.00000</td>\n",
       "      <td>3.217658e+06</td>\n",
       "      <td>50.650750</td>\n",
       "      <td>1243.424350</td>\n",
       "      <td>342.500000</td>\n",
       "    </tr>\n",
       "    <tr>\n",
       "      <th>50%</th>\n",
       "      <td>1986.50000</td>\n",
       "      <td>7.771127e+06</td>\n",
       "      <td>63.354500</td>\n",
       "      <td>4167.283149</td>\n",
       "      <td>1075.000000</td>\n",
       "    </tr>\n",
       "    <tr>\n",
       "      <th>75%</th>\n",
       "      <td>1999.00000</td>\n",
       "      <td>2.104751e+07</td>\n",
       "      <td>71.664750</td>\n",
       "      <td>10921.893205</td>\n",
       "      <td>4030.000000</td>\n",
       "    </tr>\n",
       "    <tr>\n",
       "      <th>max</th>\n",
       "      <td>2009.00000</td>\n",
       "      <td>1.318683e+09</td>\n",
       "      <td>82.603000</td>\n",
       "      <td>109347.867000</td>\n",
       "      <td>87500.000000</td>\n",
       "    </tr>\n",
       "  </tbody>\n",
       "</table>\n",
       "</div>"
      ],
      "text/plain": [
       "             year           pop      lifeExp      gdpPercap     gniPercap\n",
       "count  1320.00000  1.320000e+03  1320.000000    1320.000000   1010.000000\n",
       "mean   1986.50000  3.335027e+07    61.305435    7979.960449   5054.601980\n",
       "std      14.36685  1.168342e+08    12.281896    9934.968078   9882.803653\n",
       "min    1964.00000  6.534500e+04    23.599000     347.000000     10.000000\n",
       "25%    1974.00000  3.217658e+06    50.650750    1243.424350    342.500000\n",
       "50%    1986.50000  7.771127e+06    63.354500    4167.283149   1075.000000\n",
       "75%    1999.00000  2.104751e+07    71.664750   10921.893205   4030.000000\n",
       "max    2009.00000  1.318683e+09    82.603000  109347.867000  87500.000000"
      ]
     },
     "execution_count": 16,
     "metadata": {},
     "output_type": "execute_result"
    }
   ],
   "source": [
    "df.describe()"
   ]
  },
  {
   "cell_type": "markdown",
   "metadata": {},
   "source": [
    "📝 **Poll PyInt 2-2:**  Why are only some of the columns in the `DataFrame` visible in the output?"
   ]
  },
  {
   "cell_type": "markdown",
   "metadata": {},
   "source": [
    "## 🥊 Challenge 4: Check the Data Type\n",
    "\n",
    "What is the data type of the output of `describe()`?"
   ]
  },
  {
   "cell_type": "code",
   "execution_count": 18,
   "metadata": {},
   "outputs": [
    {
     "data": {
      "text/plain": [
       "pandas.core.frame.DataFrame"
      ]
     },
     "execution_count": 18,
     "metadata": {},
     "output_type": "execute_result"
    }
   ],
   "source": [
    "# YOUR CODE HERE\n",
    "type(df.describe())"
   ]
  },
  {
   "cell_type": "markdown",
   "metadata": {},
   "source": [
    "## Scatter Plots\n",
    "\n",
    "Pandas has a convenient [`plot()`](https://pandas.pydata.org/docs/reference/api/pandas.DataFrame.plot.html) method that allows you to create different kinds of visualizations. Some of these visualizations can be called on a DataFrame object.\n",
    "\n",
    "For instance, **scatter plots** visualize the relationship between different variables (columns) in a DataFrame. This is why we run the method on an entire DataFrame.\n",
    "\n",
    "We can create a scatter `plot()` by specifying the columns to use for the `x` and `y` axes. "
   ]
  },
  {
   "cell_type": "code",
   "execution_count": 19,
   "metadata": {},
   "outputs": [
    {
     "data": {
      "text/plain": [
       "<Axes: xlabel='lifeExp', ylabel='gdpPercap'>"
      ]
     },
     "execution_count": 19,
     "metadata": {},
     "output_type": "execute_result"
    },
    {
     "data": {
      "image/png": "[encoded data removed]",
      "text/plain": [
       "<Figure size 640x480 with 1 Axes>"
      ]
     },
     "metadata": {},
     "output_type": "display_data"
    }
   ],
   "source": [
    "df.plot(kind='scatter', x='lifeExp', y='gdpPercap')"
   ]
  },
  {
   "cell_type": "markdown",
   "metadata": {},
   "source": [
    "## Sorting Values\n",
    "\n",
    "Let's say we want to find the countries with the highest `gdpPercap`.\n",
    "\n",
    "If we want to sort the values in a DataFrame we can use the [`sort_values()`](https://pandas.pydata.org/docs/reference/api/pandas.DataFrame.sort_values.html) method on a DataFrame. It takes as an argument the column we want to sort the DataFrame on. \n",
    "\n",
    "⚠️ **Warning:** By default, `sort_values()` sorts in **ascending order**."
   ]
  },
  {
   "cell_type": "code",
   "execution_count": 25,
   "metadata": {},
   "outputs": [
    {
     "data": {
      "text/html": [
       "<div>\n",
       "<style scoped>\n",
       "    .dataframe tbody tr th:only-of-type {\n",
       "        vertical-align: middle;\n",
       "    }\n",
       "\n",
       "    .dataframe tbody tr th {\n",
       "        vertical-align: top;\n",
       "    }\n",
       "\n",
       "    .dataframe thead th {\n",
       "        text-align: right;\n",
       "    }\n",
       "</style>\n",
       "<table border=\"1\" class=\"dataframe\">\n",
       "  <thead>\n",
       "    <tr style=\"text-align: right;\">\n",
       "      <th></th>\n",
       "      <th>country</th>\n",
       "      <th>year</th>\n",
       "      <th>pop</th>\n",
       "      <th>continent</th>\n",
       "      <th>lifeExp</th>\n",
       "      <th>gdpPercap</th>\n",
       "      <th>gniPercap</th>\n",
       "    </tr>\n",
       "  </thead>\n",
       "  <tbody>\n",
       "    <tr>\n",
       "      <th>826</th>\n",
       "      <td>Myanmar</td>\n",
       "      <td>1994</td>\n",
       "      <td>40546538.0</td>\n",
       "      <td>Asia</td>\n",
       "      <td>59.320</td>\n",
       "      <td>347.000000</td>\n",
       "      <td>60.0</td>\n",
       "    </tr>\n",
       "    <tr>\n",
       "      <th>821</th>\n",
       "      <td>Myanmar</td>\n",
       "      <td>1969</td>\n",
       "      <td>25870271.0</td>\n",
       "      <td>Asia</td>\n",
       "      <td>49.379</td>\n",
       "      <td>349.000000</td>\n",
       "      <td>10.0</td>\n",
       "    </tr>\n",
       "    <tr>\n",
       "      <th>170</th>\n",
       "      <td>Burundi</td>\n",
       "      <td>1964</td>\n",
       "      <td>2961915.0</td>\n",
       "      <td>Africa</td>\n",
       "      <td>42.045</td>\n",
       "      <td>355.203227</td>\n",
       "      <td>80.0</td>\n",
       "    </tr>\n",
       "    <tr>\n",
       "      <th>822</th>\n",
       "      <td>Myanmar</td>\n",
       "      <td>1974</td>\n",
       "      <td>28466390.0</td>\n",
       "      <td>Asia</td>\n",
       "      <td>53.070</td>\n",
       "      <td>357.000000</td>\n",
       "      <td>20.0</td>\n",
       "    </tr>\n",
       "    <tr>\n",
       "      <th>823</th>\n",
       "      <td>Myanmar</td>\n",
       "      <td>1979</td>\n",
       "      <td>31528087.0</td>\n",
       "      <td>Asia</td>\n",
       "      <td>56.059</td>\n",
       "      <td>371.000000</td>\n",
       "      <td>30.0</td>\n",
       "    </tr>\n",
       "    <tr>\n",
       "      <th>...</th>\n",
       "      <td>...</td>\n",
       "      <td>...</td>\n",
       "      <td>...</td>\n",
       "      <td>...</td>\n",
       "      <td>...</td>\n",
       "      <td>...</td>\n",
       "      <td>...</td>\n",
       "    </tr>\n",
       "    <tr>\n",
       "      <th>909</th>\n",
       "      <td>Norway</td>\n",
       "      <td>2009</td>\n",
       "      <td>4627926.0</td>\n",
       "      <td>Europe</td>\n",
       "      <td>80.196</td>\n",
       "      <td>49357.190170</td>\n",
       "      <td>87500.0</td>\n",
       "    </tr>\n",
       "    <tr>\n",
       "      <th>663</th>\n",
       "      <td>Kuwait</td>\n",
       "      <td>1979</td>\n",
       "      <td>1140357.0</td>\n",
       "      <td>Asia</td>\n",
       "      <td>69.343</td>\n",
       "      <td>59265.477140</td>\n",
       "      <td>NaN</td>\n",
       "    </tr>\n",
       "    <tr>\n",
       "      <th>661</th>\n",
       "      <td>Kuwait</td>\n",
       "      <td>1969</td>\n",
       "      <td>575003.0</td>\n",
       "      <td>Asia</td>\n",
       "      <td>64.624</td>\n",
       "      <td>80894.883260</td>\n",
       "      <td>NaN</td>\n",
       "    </tr>\n",
       "    <tr>\n",
       "      <th>660</th>\n",
       "      <td>Kuwait</td>\n",
       "      <td>1964</td>\n",
       "      <td>358266.0</td>\n",
       "      <td>Asia</td>\n",
       "      <td>60.470</td>\n",
       "      <td>95458.111760</td>\n",
       "      <td>NaN</td>\n",
       "    </tr>\n",
       "    <tr>\n",
       "      <th>662</th>\n",
       "      <td>Kuwait</td>\n",
       "      <td>1974</td>\n",
       "      <td>841934.0</td>\n",
       "      <td>Asia</td>\n",
       "      <td>67.712</td>\n",
       "      <td>109347.867000</td>\n",
       "      <td>NaN</td>\n",
       "    </tr>\n",
       "  </tbody>\n",
       "</table>\n",
       "<p>1320 rows × 7 columns</p>\n",
       "</div>"
      ],
      "text/plain": [
       "     country  year         pop continent  lifeExp      gdpPercap  gniPercap\n",
       "826  Myanmar  1994  40546538.0      Asia   59.320     347.000000       60.0\n",
       "821  Myanmar  1969  25870271.0      Asia   49.379     349.000000       10.0\n",
       "170  Burundi  1964   2961915.0    Africa   42.045     355.203227       80.0\n",
       "822  Myanmar  1974  28466390.0      Asia   53.070     357.000000       20.0\n",
       "823  Myanmar  1979  31528087.0      Asia   56.059     371.000000       30.0\n",
       "..       ...   ...         ...       ...      ...            ...        ...\n",
       "909   Norway  2009   4627926.0    Europe   80.196   49357.190170    87500.0\n",
       "663   Kuwait  1979   1140357.0      Asia   69.343   59265.477140        NaN\n",
       "661   Kuwait  1969    575003.0      Asia   64.624   80894.883260        NaN\n",
       "660   Kuwait  1964    358266.0      Asia   60.470   95458.111760        NaN\n",
       "662   Kuwait  1974    841934.0      Asia   67.712  109347.867000        NaN\n",
       "\n",
       "[1320 rows x 7 columns]"
      ]
     },
     "execution_count": 25,
     "metadata": {},
     "output_type": "execute_result"
    }
   ],
   "source": [
    "\n",
    "df.sort_values('gdpPercap')"
   ]
  },
  {
   "cell_type": "markdown",
   "metadata": {},
   "source": [
    "🔔 **Question:** Add the argument `ascending=False` when running `sort_values()` in the cell above. What happens?"
   ]
  },
  {
   "cell_type": "markdown",
   "metadata": {},
   "source": [
    "## Bar Plots\n",
    "\n",
    "Bar plots show the relationship between a numeric and a categoric variable. Here, we use the `country` (categorical) and `lifeExp` (numeric) columns. Use a bar plot when you want to illustrate differences in frequencies of some category.\n",
    "\n",
    "In the below cell, we retrieve the 10 data points with the **lowest life expectancy** in our data using the `sort_values()` method, and then plot those data points in a bar plot.\n",
    "\n",
    "💡 **Tip**: Note that `plot.bar()` is a method of its own, and is an alternative to using `plot()` with the `type=bar` argument."
   ]
  },
  {
   "cell_type": "code",
   "execution_count": 26,
   "metadata": {},
   "outputs": [
    {
     "data": {
      "image/png": "[encoded data removed]",
      "text/plain": [
       "<Figure size 600x400 with 1 Axes>"
      ]
     },
     "metadata": {},
     "output_type": "display_data"
    }
   ],
   "source": [
    "# Sort values based on low life expectancy, get top 10\n",
    "low_lifeExp = df.sort_values('lifeExp', ascending=True)[:10]\n",
    "\n",
    "# Visualize with bar plot \n",
    "low_lifeExp.plot.bar(x='country', y='lifeExp', figsize=(6,4));"
   ]
  },
  {
   "cell_type": "markdown",
   "metadata": {},
   "source": [
    "<a id='series_meth'></a>\n",
    "\n",
    "# Methods for `Series` Objects\n",
    "\n",
    "Some Pandas methods work on `Series` objects – single columns – instead of entire DataFrames.\n",
    "\n",
    "For instance, what if we wanted to calculate the median of life expectancy? We'd need to select just one column to operate on. \n",
    "\n",
    "Recall that we can select an individual column with bracket notation. This is analogous to indexing a list.\n",
    "\n",
    "🔔 **Question**: What is the type of the output of the below cell?"
   ]
  },
  {
   "cell_type": "code",
   "execution_count": 27,
   "metadata": {
    "scrolled": true
   },
   "outputs": [
    {
     "data": {
      "text/plain": [
       "0       31.997\n",
       "1       34.020\n",
       "2       36.088\n",
       "3       38.438\n",
       "4       39.854\n",
       "         ...  \n",
       "1315    62.351\n",
       "1316    60.377\n",
       "1317    46.809\n",
       "1318    39.989\n",
       "1319    43.487\n",
       "Name: lifeExp, Length: 1320, dtype: float64"
      ]
     },
     "execution_count": 27,
     "metadata": {},
     "output_type": "execute_result"
    }
   ],
   "source": [
    "df['lifeExp']"
   ]
  },
  {
   "cell_type": "markdown",
   "metadata": {},
   "source": [
    "A single column of pandas is a `Series` object. This can be treated as a list or other iterable, and allows for you to do calculations over it. \n",
    "\n",
    "We can look at the [documentation](https://pandas.pydata.org/docs/reference/api/pandas.Series.html) to see the methods and attributes that are available for `Series` objects. If we want the median, we can use the `median()` function."
   ]
  },
  {
   "cell_type": "code",
   "execution_count": 28,
   "metadata": {
    "scrolled": true
   },
   "outputs": [
    {
     "data": {
      "text/plain": [
       "63.3545"
      ]
     },
     "execution_count": 28,
     "metadata": {},
     "output_type": "execute_result"
    }
   ],
   "source": [
    "df['lifeExp'].median()"
   ]
  },
  {
   "cell_type": "markdown",
   "metadata": {},
   "source": [
    "## Counting Values\n",
    "\n",
    "There are many methods for summarizing DataFrames (which often are assigned as `df`). For instance, `value_counts()` returns a `Series` containing counts of unique values."
   ]
  },
  {
   "cell_type": "code",
   "execution_count": 29,
   "metadata": {},
   "outputs": [
    {
     "data": {
      "text/plain": [
       "country   year  pop         continent  lifeExp  gdpPercap     gniPercap\n",
       "Albania   1989  3075321.0   Europe     72.000   3738.932735   730.0        1\n",
       "Nigeria   1989  81551520.0  Africa     46.886   1385.029563   680.0        1\n",
       "Niger     1974  5060262.0   Africa     40.546   954.209236    160.0        1\n",
       "          1979  5682086.0   Africa     41.291   808.897073    280.0        1\n",
       "          1984  6437188.0   Africa     42.598   909.722135    290.0        1\n",
       "                                                                          ..\n",
       "Gambia    1999  1235767.0   Africa     55.861   653.730170    660.0        1\n",
       "          2004  1457766.0   Africa     58.041   660.585600    390.0        1\n",
       "          2009  1688359.0   Africa     59.448   752.749726    810.0        1\n",
       "Germany   1974  78717088.0  Europe     71.000   18016.180270  4670.0       1\n",
       "Zimbabwe  2009  12311143.0  Africa     43.487   469.709298    330.0        1\n",
       "Name: count, Length: 1010, dtype: int64"
      ]
     },
     "execution_count": 29,
     "metadata": {},
     "output_type": "execute_result"
    }
   ],
   "source": [
    "df.value_counts()"
   ]
  },
  {
   "cell_type": "markdown",
   "metadata": {},
   "source": [
    "However, `value_counts()` also works on a single column!"
   ]
  },
  {
   "cell_type": "code",
   "execution_count": 30,
   "metadata": {},
   "outputs": [
    {
     "data": {
      "text/plain": [
       "lifeExp\n",
       "71.080    3\n",
       "73.680    3\n",
       "78.770    3\n",
       "70.750    3\n",
       "76.420    3\n",
       "         ..\n",
       "52.790    1\n",
       "48.690    1\n",
       "44.598    1\n",
       "40.489    1\n",
       "43.487    1\n",
       "Name: count, Length: 1271, dtype: int64"
      ]
     },
     "execution_count": 30,
     "metadata": {},
     "output_type": "execute_result"
    }
   ],
   "source": [
    "df['lifeExp'].value_counts()"
   ]
  },
  {
   "cell_type": "markdown",
   "metadata": {},
   "source": [
    "## Histograms\n",
    "\n",
    "A histogram shows the distribution of a variable using binned values. We can call this using the syntax: `df[column].plot(kind='hist')`. Use a histogram if you want to show distributions of continuous variables.\n",
    "\n",
    "📝 **Poll PyInt 2-3:** Try changing the value for the `bins` parameter. What does the `bins` parameter seem to be determining?</span>"
   ]
  },
  {
   "cell_type": "code",
   "execution_count": 34,
   "metadata": {},
   "outputs": [
    {
     "data": {
      "text/plain": [
       "<Axes: title={'center': 'Histogram of life expectancy'}, ylabel='Frequency'>"
      ]
     },
     "execution_count": 34,
     "metadata": {},
     "output_type": "execute_result"
    },
    {
     "data": {
      "image/png": "[encoded data removed]",
      "text/plain": [
       "<Figure size 640x480 with 1 Axes>"
      ]
     },
     "metadata": {},
     "output_type": "display_data"
    }
   ],
   "source": [
    "df['lifeExp'].plot(kind='hist', title='Histogram of life expectancy', bins=10)"
   ]
  },
  {
   "cell_type": "markdown",
   "metadata": {},
   "source": [
    "## 🥊 Challenge 5: Loops and Plots\n",
    "\n",
    "Let's say you have a list of countries you want to compare life expectancy for, using a single lineplot. We will create a function for this.\n",
    "\n",
    "We have set up the list and function for you. Your goal is to:\n",
    "1. Add three country names in the DataFrame to `country_list`.\n",
    "2. Add two parameters to the function; one for a DataFrame, and one for the list of countries.\n",
    "3. Within the function block, loop over the list of countries. \n",
    "4. Within the for-loop, add the loop variable you named in step 3.\n",
    "5. In the `label=` parameter of `plt.plot()`, fill in the loop variable name as well.\n",
    "\n",
    "Run the cell when you're done: if you've succeeded, you should see a single line plot with life expectancy for all of the countries in `country_list`."
   ]
  },
  {
   "cell_type": "code",
   "execution_count": 50,
   "metadata": {},
   "outputs": [
    {
     "data": {
      "image/png": "[encoded data removed]",
      "text/plain": [
       "<Figure size 640x480 with 1 Axes>"
      ]
     },
     "metadata": {},
     "output_type": "display_data"
    }
   ],
   "source": [
    "import matplotlib.pyplot as plt\n",
    "\n",
    "# YOUR CODE HERE\n",
    "\n",
    "country_list = ['Niger']\n",
    "\n",
    "def plot_life_expectancy(df,countries):\n",
    "    for country in countries:\n",
    "        country_data = df[df['country'] == country]\n",
    "        plt.plot(country_data['year'], country_data['lifeExp'], label=country)\n",
    "    plt.xlabel('Years')\n",
    "    plt.ylabel('Life Expectancy')\n",
    "    plt.title('Life Expectancy by Country')\n",
    "    plt.legend()\n",
    "    plt.show()\n",
    "\n",
    "plot_life_expectancy(df, country_list)"
   ]
  },
  {
   "cell_type": "markdown",
   "metadata": {},
   "source": [
    "💡 **Tip**: If you have time left, try to add labels and title to the plot using  `plt.xlabel()`, `plt.ylabel()`, and `plt.title()`. See [this resource](https://www.w3schools.com/python/matplotlib_labels.asp) for more information!"
   ]
  },
  {
   "cell_type": "markdown",
   "metadata": {
    "jp-MarkdownHeadingCollapsed": true,
    "tags": []
   },
   "source": [
    "<div class=\"alert alert-success\">\n",
    "\n",
    "## ❗ Key Points\n",
    "\n",
    "* `for` loops work on lists and other list-like structures, but also on other iterables such as strings.\n",
    "* We typically use an accumulator variable to store some information we retrieve using a `for` loop.    \n",
    "* We typically do not use for-loops in Pandas - instead, we use \"vectorized\" operations.\n",
    "* Pandas methods work on either `DataFrame` or `Series` objects--make sure you know which!\n",
    "* Pandas methods yield as output either `DataFrame` or `Series` objects--make sure you know which!\n",
    "\n",
    "</div>"
   ]
  }
 ],
 "metadata": {
  "kernelspec": {
   "display_name": "base",
   "language": "python",
   "name": "python3"
  },
  "language_info": {
   "codemirror_mode": {
    "name": "ipython",
    "version": 3
   },
   "file_extension": ".py",
   "mimetype": "text/x-python",
   "name": "python",
   "nbconvert_exporter": "python",
   "pygments_lexer": "ipython3",
   "version": "3.9.13"
  }
 },
 "nbformat": 4,
 "nbformat_minor": 4
}
